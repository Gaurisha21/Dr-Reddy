{
 "cells": [
  {
   "cell_type": "code",
   "execution_count": 8,
   "outputs": [],
   "source": [
    "import os\n",
    "import cv2\n",
    "from PIL import Image\n",
    "from os import listdir\n",
    "import matplotlib.pyplot as plt\n",
    "from pytesseract import pytesseract"
   ],
   "metadata": {
    "collapsed": false,
    "pycharm": {
     "name": "#%%\n"
    }
   }
  },
  {
   "cell_type": "code",
   "execution_count": 10,
   "outputs": [
    {
     "name": "stdout",
     "output_type": "stream",
     "text": [
      "Dr.Reddy’s Qi\n",
      "\f\n",
      "or Reddy’s\n",
      "\f\n",
      " \n",
      "\f\n",
      "Dr.Reddy’s @*\n",
      "\f\n",
      "Dr.Reddy's @$*\n",
      "\f\n",
      "if @\n",
      "Y/,\n",
      "\f\n",
      "\f\n",
      "Dr.Reddy's @*\n",
      "\f\n",
      "\f\n",
      "\f\n",
      " \n",
      "\f\n",
      " \n",
      "\f\n",
      " \n",
      "   \n",
      "\n",
      "Dace tM\n",
      "\f\n",
      "“AIT ICCTA\n",
      "\f\n",
      "DrReddys Qi\n",
      "\f\n",
      " \n",
      "\f\n",
      "r.Reddy’s @2*\n",
      "\f\n",
      "\f\n",
      "\f\n",
      "Dr.Reddy’s Qs\n",
      "\f\n",
      "rf : eee\n",
      "\f\n"
     ]
    }
   ],
   "source": [
    "directory = r'F:\\Folders folder\\Hackathons\\Dr Reddy\\test_set'\n",
    "\n",
    "i=0\n",
    "\n",
    "def showIm(f):\n",
    "    img = cv2.imread(f)\n",
    "#     img = img[1400:1600,0:100]\n",
    "    cv2.imshow('crop',img)\n",
    "    \n",
    "for filename in os.listdir(directory):\n",
    "    i+=1\n",
    "    f = os.path.join(directory, filename)\n",
    "    img = cv2.imread(f)\n",
    "    h1 = int(img.shape[0]*0.1)\n",
    "    h2 = int(img.shape[0]*0.9)\n",
    "    w1 = int(img.shape[1]*0.8)\n",
    "    w2 = int(img.shape[1])\n",
    "    img = img[0:h1,w1:w2] #1400:1600,0:100]\n",
    "    \n",
    "    text = pytesseract.image_to_string(img)\n",
    "    print(text)\n",
    "    \n",
    "    # cv2.imshow('crop',img)\n",
    "    # cv2.waitKey(0)\n",
    "    # cv2.destroyAllWindows()\n",
    "#     showIm(f)"
   ],
   "metadata": {
    "collapsed": false,
    "pycharm": {
     "name": "#%%\n"
    }
   }
  },
  {
   "cell_type": "code",
   "execution_count": null,
   "outputs": [],
   "source": [
    "  "
   ],
   "metadata": {
    "collapsed": false,
    "pycharm": {
     "name": "#%%\n"
    }
   }
  }
 ],
 "metadata": {
  "kernelspec": {
   "display_name": "Python 3 (ipykernel)",
   "language": "python",
   "name": "python3"
  },
  "language_info": {
   "codemirror_mode": {
    "name": "ipython",
    "version": 3
   },
   "file_extension": ".py",
   "mimetype": "text/x-python",
   "name": "python",
   "nbconvert_exporter": "python",
   "pygments_lexer": "ipython3",
   "version": "3.9.5"
  }
 },
 "nbformat": 4,
 "nbformat_minor": 5
}